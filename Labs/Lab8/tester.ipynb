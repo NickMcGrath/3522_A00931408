{
 "cells": [
  {
   "cell_type": "code",
   "execution_count": 2,
   "outputs": [],
   "source": [
    "import abc\n",
    "\n",
    "import pandas\n",
    "\n",
    "from items import *\n",
    "\n",
    "\n",
    "class LibraryItemFactory(abc.ABC):\n",
    "    def __init__(self, path):\n",
    "        self.path = path\n",
    "\n",
    "    @abc.abstractmethod\n",
    "    def get_next_item(self):\n",
    "        \"\"\"\n",
    "        Generator.\n",
    "        Reads the excel file and iterate over each row of the data\n",
    "        frame. The details from these rows should be used to create and\n",
    "        yield the corresponding Library Item.\n",
    "        :return:\n",
    "        \"\"\"\n",
    "        pass\n",
    "\n",
    "\n",
    "class MangaFactory(LibraryItemFactory):\n",
    "    def __init__(self, path):\n",
    "        self.path = path\n",
    "\n",
    "    def get_next_item(self):\n",
    "        excel_df = pandas.read_excel(self.path)\n",
    "        for row in excel_df.iterrows():\n",
    "            print('ROW', row)\n",
    "            row_dic = row[1].to_dict()\n",
    "            print('ROW DIC', row_dic)\n",
    "            yield Manga(**row_dic)\n",
    "        \n",
    "class GameFactory(LibraryItemFactory):\n",
    "    def __init__(self, path):\n",
    "        self.path = path\n",
    "\n",
    "    def get_next_item(self):\n",
    "        excel_df = pandas.read_excel(self.path)\n",
    "        for row in excel_df.iterrows():\n",
    "            row_dic = row[1].to_dict()\n",
    "            yield Game(**row_dic)\n",
    "            \n",
    "class MovieFactoy:\n",
    "    def __init__(self, path):\n",
    "        self.path = path\n",
    "\n",
    "    def get_next_item(self):\n",
    "        excel_df = pandas.read_excel(self.path)\n",
    "        for row in excel_df.iterrows():\n",
    "            row_dic = row[1].to_dict()\n",
    "            yield Movie(**row_dic)"
   ],
   "metadata": {
    "collapsed": false,
    "pycharm": {
     "name": "#%%\n",
     "is_executing": false
    }
   }
  },
  {
   "cell_type": "code",
   "execution_count": 3,
   "outputs": [
    {
     "name": "stdout",
     "text": [
      "ROW (0, title               Yotsuba!\n",
      "call_num      MG.001.233.771\n",
      "num_copies                13\n",
      "artist        Azuma Kiyohiko\n",
      "volume_num                 1\n",
      "Name: 0, dtype: object)\n",
      "ROW DIC {'title': 'Yotsuba!', 'call_num': 'MG.001.233.771', 'num_copies': 13, 'artist': 'Azuma Kiyohiko', 'volume_num': 1}\n",
      "--------------------\n",
      "Name: Yotsuba!, Call Number: MG.001.233.771, Availability: 13 copies\n",
      "Type: Manga, Volume: 1 Author: Azuma Kiyohiko\n",
      "--------------------\n",
      "ROW (1, title               Yotsuba!\n",
      "call_num      MG.001.233.775\n",
      "num_copies                40\n",
      "artist        Azuma Kiyohiko\n",
      "volume_num                 3\n",
      "Name: 1, dtype: object)\n",
      "ROW DIC {'title': 'Yotsuba!', 'call_num': 'MG.001.233.775', 'num_copies': 40, 'artist': 'Azuma Kiyohiko', 'volume_num': 3}\n",
      "--------------------\n",
      "Name: Yotsuba!, Call Number: MG.001.233.775, Availability: 40 copies\n",
      "Type: Manga, Volume: 3 Author: Azuma Kiyohiko\n",
      "--------------------\n",
      "ROW (2, title              Your Name\n",
      "call_num      MG.004.874.123\n",
      "num_copies                10\n",
      "artist        Makoto Shinkai\n",
      "volume_num                 1\n",
      "Name: 2, dtype: object)\n",
      "ROW DIC {'title': 'Your Name', 'call_num': 'MG.004.874.123', 'num_copies': 10, 'artist': 'Makoto Shinkai', 'volume_num': 1}\n",
      "--------------------\n",
      "Name: Your Name, Call Number: MG.004.874.123, Availability: 10 copies\n",
      "Type: Manga, Volume: 1 Author: Makoto Shinkai\n",
      "--------------------\n",
      "ROW (3, title          Dragon Ball Z\n",
      "call_num      MG.002.135.709\n",
      "num_copies                 8\n",
      "artist        Akira Toriyama\n",
      "volume_num                 1\n",
      "Name: 3, dtype: object)\n",
      "ROW DIC {'title': 'Dragon Ball Z', 'call_num': 'MG.002.135.709', 'num_copies': 8, 'artist': 'Akira Toriyama', 'volume_num': 1}\n",
      "--------------------\n",
      "Name: Dragon Ball Z, Call Number: MG.002.135.709, Availability: 8 copies\n",
      "Type: Manga, Volume: 1 Author: Akira Toriyama\n",
      "--------------------\n"
     ],
     "output_type": "stream"
    }
   ],
   "source": [
    "m = MangaFactory('/Users/nickmcgrath/PycharmProjects/3522_A00931408/Labs/Lab8/manga_data.xlsx')\n",
    "gen = m.get_next_item()\n",
    "for x in gen:\n",
    "    print(x)\n"
   ],
   "metadata": {
    "collapsed": false,
    "pycharm": {
     "name": "#%%\n",
     "is_executing": false
    }
   }
  },
  {
   "cell_type": "code",
   "execution_count": 72,
   "outputs": [
    {
     "name": "stdout",
     "text": [
      "--------------------\n",
      "Name: Warcraft 3: Reign of Chaos, Call Number: G.001.123.567, Availability: 5 copies\n",
      "Type: Game, Studio: Blizzard, Platform:PC, Max Players: 8\n",
      "--------------------\n",
      "--------------------\n",
      "Name: Overwatch, Call Number: G.234.987.123, Availability: 3 copies\n",
      "Type: Game, Studio: Blizzard, Platform:PC, Max Players: 12\n",
      "--------------------\n",
      "--------------------\n",
      "Name: Last of Us, Call Number: G.213.482.999, Availability: 7 copies\n",
      "Type: Game, Studio: Naughty Dog, Platform:PS3 / PS4, Max Players: 1\n",
      "--------------------\n",
      "--------------------\n",
      "Name: Crash Team Racing, Call Number: G.003.771.248, Availability: 10 copies\n",
      "Type: Game, Studio: Naughty Dog, Platform:PS4 / Switch, Max Players: 4\n",
      "--------------------\n",
      "--------------------\n",
      "Name: Jurassic Park, Call Number: M.040.123.832, Availability: 10 copies\n",
      "Type: Movie, Genre: Action / Adventure, Release Year: 1993\n",
      "--------------------\n",
      "--------------------\n",
      "Name: Up, Call Number: M.549.045.193, Availability: 15 copies\n",
      "Type: Movie, Genre: Animation / Adventure, Release Year: 2009\n",
      "--------------------\n",
      "--------------------\n",
      "Name: La La Land, Call Number: M.754.023.089, Availability: 20 copies\n",
      "Type: Movie, Genre: Musical, Release Year: 2016\n",
      "--------------------\n",
      "--------------------\n",
      "Name: Star Wars: A New Hope, Call Number: M.001.002.003, Availability: 6 copies\n",
      "Type: Movie, Genre: Sci-Fi, Release Year: 1977\n",
      "--------------------\n",
      "--------------------\n",
      "Name: Spirited Away, Call Number: M.345.098.184, Availability: 19 copies\n",
      "Type: Movie, Genre: Animation / Adventure, Release Year: 2001\n",
      "--------------------\n"
     ],
     "output_type": "stream"
    }
   ],
   "source": [
    "g = GameFactory('/Users/nickmcgrath/PycharmProjects/3522_A00931408/Labs/Lab8/games_data.xlsx')\n",
    "gen = g.get_next_item()\n",
    "for x in gen:\n",
    "    print(x)\n",
    "m = MovieFactoy('/Users/nickmcgrath/PycharmProjects/3522_A00931408/Labs/Lab8/movies_data.xlsx')\n",
    "gen = m.get_next_item()\n",
    "for x in gen:\n",
    "    print(x)"
   ],
   "metadata": {
    "collapsed": false,
    "pycharm": {
     "name": "#%%\n",
     "is_executing": false
    }
   }
  },
  {
   "cell_type": "code",
   "execution_count": null,
   "outputs": [],
   "source": [
    "\n"
   ],
   "metadata": {
    "collapsed": false,
    "pycharm": {
     "name": "#%%\n"
    }
   }
  }
 ],
 "metadata": {
  "kernelspec": {
   "display_name": "Python 3",
   "language": "python",
   "name": "python3"
  },
  "language_info": {
   "codemirror_mode": {
    "name": "ipython",
    "version": 2
   },
   "file_extension": ".py",
   "mimetype": "text/x-python",
   "name": "python",
   "nbconvert_exporter": "python",
   "pygments_lexer": "ipython2",
   "version": "2.7.6"
  },
  "pycharm": {
   "stem_cell": {
    "cell_type": "raw",
    "source": [],
    "metadata": {
     "collapsed": false
    }
   }
  }
 },
 "nbformat": 4,
 "nbformat_minor": 0
}