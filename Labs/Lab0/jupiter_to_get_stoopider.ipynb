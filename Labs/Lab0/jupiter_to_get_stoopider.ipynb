{
 "cells": [
  {
   "cell_type": "code",
   "execution_count": 1,
   "metadata": {
    "collapsed": true,
    "pycharm": {
     "is_executing": false
    }
   },
   "outputs": [
    {
     "traceback": [
      "\u001b[0;36m  File \u001b[0;32m\"<ipython-input-1-bb9383ddb2b4>\"\u001b[0;36m, line \u001b[0;32m6\u001b[0m\n\u001b[0;31m    eligible_dishes = []\u001b[0m\n\u001b[0m    ^\u001b[0m\n\u001b[0;31mSyntaxError\u001b[0m\u001b[0;31m:\u001b[0m invalid syntax\n"
     ],
     "ename": "SyntaxError",
     "evalue": "invalid syntax (<ipython-input-1-bb9383ddb2b4>, line 6)",
     "output_type": "error"
    }
   ],
   "source": [
    "import abc\n",
    "class Meal(abc.ABC):\n",
    "    \n",
    "    @property\n",
    "    @abs.abstractmethod\n",
    "    eligible_dishes = []\n",
    "    \n",
    "    def __init__(self, dishes):\n",
    "        self.dishes = []\n",
    "        for dish in Meal.eligible_dishes:\n",
    "            if dish not in dishes:\n",
    "                self.dishes.append(dish)\n",
    "                \n",
    "    @abs.abstractmethod        \n",
    "    def eat_food_in_correct_sequence(self):\n",
    "        pass\n",
    "            \n",
    "    def __str__(self):\n",
    "        return f'{self.dishes}'\n",
    "    \n",
    "class Brunch(Meal):\n",
    "    \n",
    "def eat_food_in_correct_sequence(self):\n",
    "    for dish in Brunch.eligible_dishes:\n",
    "        if dish in self.dishes:\n",
    "            dish_eaten = dish\n",
    "            print('eating', dish)\n",
    "            break;\n",
    "def main():\n",
    "    my_fav_meal = Meal(['quinoa', 'tomatoes', 'chicken'])\n",
    "    print(my_fav_meal)\n",
    "\n",
    "if __name__ == '__main__':\n",
    "    main()"
   ]
  },
  {
   "cell_type": "code",
   "execution_count": null,
   "outputs": [],
   "source": [
    "\n"
   ],
   "metadata": {
    "collapsed": false,
    "pycharm": {
     "name": "#%%\n"
    }
   }
  }
 ],
 "metadata": {
  "kernelspec": {
   "display_name": "Python 3",
   "language": "python",
   "name": "python3"
  },
  "language_info": {
   "codemirror_mode": {
    "name": "ipython",
    "version": 2
   },
   "file_extension": ".py",
   "mimetype": "text/x-python",
   "name": "python",
   "nbconvert_exporter": "python",
   "pygments_lexer": "ipython2",
   "version": "2.7.6"
  },
  "pycharm": {
   "stem_cell": {
    "cell_type": "raw",
    "source": [],
    "metadata": {
     "collapsed": false
    }
   }
  }
 },
 "nbformat": 4,
 "nbformat_minor": 0
}